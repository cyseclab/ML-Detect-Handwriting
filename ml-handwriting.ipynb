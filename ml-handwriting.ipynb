{
 "cells": [
  {
   "cell_type": "markdown",
   "metadata": {},
   "source": [
    "# ML Workshop: Handschrifterkennung"
   ]
  },
  {
   "cell_type": "markdown",
   "metadata": {},
   "source": [
    "##### Dieses Programm erlaubt es euch, Python-Code ganz einfach im Browser ausführen. Ihr könnt die jeweilige Zelle mit der Taskenkombination SHIFT + ENTER ausführen."
   ]
  },
  {
   "source": [
    "Vorgehensweise:   \n",
    "1. Importieren der benötigten Module/Bibliotheken   \n",
    "2. Laden des Datensatzes (Handgeschriebene Ziffern)   \n",
    "3. Aufteilung des Datensatzes in Trainings- und Testdaten   \n",
    "4. Normalisierung der Daten   \n",
    "5. Erstellung und Training des Künstlichen Neuronalen Netzes   \n",
    "6. Testen und Validierung der Genauigkeit unseres Neuronalen Netzes   \n"
   ],
   "cell_type": "markdown",
   "metadata": {}
  },
  {
   "cell_type": "code",
   "execution_count": null,
   "metadata": {},
   "outputs": [],
   "source": [
    "# 1. Importieren der benötigten Module/Bibliotheken   \n",
    "import tensorflow as tf # Framework von Google zur Erstellung von NN\n",
    "import keras # ML Bibliothek, stellt Schnittstellen für Tensorflow bereit\n",
    "from keras.models import Sequential\n",
    "from keras.layers import Dense # FULLY CONNECTED LAYERS\n",
    "from tensorflow.keras.optimizers import Adam\n",
    "from tensorflow.keras.utils import to_categorical"
   ]
  },
  {
   "cell_type": "code",
   "execution_count": null,
   "metadata": {},
   "outputs": [],
   "source": [
    "# 2. Laden des Datensatzes (Handgeschriebene Ziffern) \n",
    "# 70.000 Bilder von handgeschriebenen Ziffern in der Größe von 28x28px  \n",
    "mnist = keras.datasets.mnist "
   ]
  },
  {
   "cell_type": "code",
   "execution_count": null,
   "metadata": {},
   "outputs": [],
   "source": [
    "# 3. Aufteilung des Datensatzes in Trainings- und Testdaten (Supervised Learning)\n",
    "# 60.000 Trainingsdaten\n",
    "# 10.000 Testdaten\n",
    "(train_data, train_labels), (test_data, test_labels) = mnist.load_data()"
   ]
  },
  {
   "cell_type": "code",
   "execution_count": null,
   "metadata": {},
   "outputs": [],
   "source": [
    "# Wie sehen die Daten aus?\n",
    "from matplotlib import pyplot as plt # Bibliothek zur Erstellung von Graphen\n",
    "\n",
    "# Ausgabe des 1. Bildes der Trainingsdaten + Label\n",
    "plt.imshow(train_data[0])\n",
    "print(train_labels[0])"
   ]
  },
  {
   "cell_type": "code",
   "execution_count": null,
   "metadata": {},
   "outputs": [],
   "source": [
    "# 4. Normalisierung der Daten (preprocessing)\n",
    "# Warum müssen die Daten normalisiert werden?\n",
    "# Unser NN rechnet mit Daten zwischen 0 und 1, die Daten aus dem Datensatz bestehen aber aus Zahlen zwischen 0 und 255\n",
    "print(train_data)\n"
   ]
  },
  {
   "cell_type": "code",
   "execution_count": null,
   "metadata": {},
   "outputs": [],
   "source": [
    "# Mithilfe der normalize Funktion wandeln wir die Daten um\n",
    "train_data  = tf.keras.utils.normalize(train_data, axis=1)\n",
    "test_data  = tf.keras.utils.normalize(test_data, axis=1)\n",
    "print(train_data)"
   ]
  },
  {
   "cell_type": "code",
   "execution_count": null,
   "metadata": {},
   "outputs": [],
   "source": [
    "# 5. Erstellung und Training des Künstlichen Neuronalen Netzes\n",
    "# Wir verwenden ein vollständig verbundenes, sequentiell aufgebautes Netz, welches aus 2 Hidden Layers und einem Output Layer besteht\n",
    "# Beide Hidden Layers besitzen 128 Neuronen und werden nach der Multiplikation der Inputs mit den Gewichen durch die relu-Aktivierungsfunktion aktiviert\n",
    "# Der Output Layer besitzt 10 Neuronen (Wahrscheinlichkeit für jede Ziffer 0-9)\n",
    "model = Sequential()\n",
    "\n",
    "model.add(Dense(128, activation='relu')) # Hidden Layer 1\n",
    "\n",
    "model.add(Dense(128, activation='relu')) # Hidden Layer 2\n",
    "\n",
    "model.add(Dense(10, activation='softmax')) # Output Layer"
   ]
  },
  {
   "cell_type": "code",
   "execution_count": null,
   "metadata": {},
   "outputs": [],
   "source": [
    "# Das Netz benötigt eine Optimierungsstrategie (Adam), ein Berechnungsverfahren für den Loss und eine Metrik, die gemessen werden soll (Genauigkeit)\n",
    "model.compile(optimizer='adam', loss='sparse_categorical_crossentropy', metrics=['accuracy'])"
   ]
  },
  {
   "cell_type": "code",
   "execution_count": null,
   "metadata": {},
   "outputs": [],
   "source": [
    "# \"Füttern\" des Netzes, damit es lernen kann\n",
    "# Wir geben dem Netz die Trainingsdaten + die entsprechenden Labels\n",
    "# 60.000 ist die Anzahl der Bilder \n",
    "# 784 ist die Länge des Inputs (28x28px) \n",
    "model.fit(train_data.reshape(60000, 784), train_labels, epochs=3)"
   ]
  },
  {
   "cell_type": "code",
   "execution_count": null,
   "metadata": {},
   "outputs": [],
   "source": [
    "# 6. Testen und Validierung der Genauigkeit unseres Neuronalen Netzes\n",
    "# Nun nutzen wir die Testdaten, um unser trainiertes Netz zu testen\n",
    "# Das Netz klassifiziert eigenständig das Bild und prüft mithilfe des Labels, ob die Vorhersage richtig oder falsch war\n",
    "# Anhand dessen kann die Genauigkeit des Netzes berechnet werden\n",
    "val_loss, val_acc = model.evaluate(test_data.reshape(10000, 784), test_labels)\n",
    "print(val_acc)"
   ]
  },
  {
   "cell_type": "code",
   "execution_count": null,
   "metadata": {},
   "outputs": [],
   "source": [
    "# Nun überprüfen wir das ganze noch manuell\n",
    "import numpy as np\n",
    "\n",
    "# Wir lassen alle Bilder der Testdaten klassifizieren\n",
    "predictions = model.predict(test_data.reshape(10000, 784))\n",
    "\n",
    "# So sieht die Ausgabe für das 21. Bild unserer Testdaten aus (Index beginnt bei 0)\n",
    "print(predictions[20])"
   ]
  },
  {
   "cell_type": "code",
   "execution_count": null,
   "metadata": {},
   "outputs": [],
   "source": [
    "pred_20 = predictions[20]\n",
    "\n",
    "# Speichern des Index der höchsten Zahl aus pred_20 in max_20 -> Welche Zahl hat unser Netz auf dem Bild erkannt \n",
    "max_20 = np.argmax(pred_20)\n",
    "\n",
    "# Die Zahl, die unser Algorithmus auf dem Bild erkannt hat\n",
    "print(max_20)\n",
    "# Ausgabe des Bildes\n",
    "plt.imshow(test_data[20])"
   ]
  }
 ],
 "metadata": {
  "kernelspec": {
   "display_name": "Python 3",
   "language": "python",
   "name": "python3"
  },
  "language_info": {
   "codemirror_mode": {
    "name": "ipython",
    "version": 3
   },
   "file_extension": ".py",
   "mimetype": "text/x-python",
   "name": "python",
   "nbconvert_exporter": "python",
   "pygments_lexer": "ipython3",
   "version": "3.7.6"
  }
 },
 "nbformat": 4,
 "nbformat_minor": 4
}
